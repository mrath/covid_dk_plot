{
 "cells": [
  {
   "cell_type": "code",
   "execution_count": 176,
   "metadata": {},
   "outputs": [],
   "source": [
    "# import modules\n",
    "import geopandas as gpd\n",
    "import matplotlib.pyplot as plt\n",
    "import matplotlib.dates as mdates\n",
    "import pandas as pd\n",
    "import numpy as np\n",
    "from mpl_toolkits.axes_grid1 import make_axes_locatable\n",
    "from mpl_toolkits.axes_grid1.inset_locator import zoomed_inset_axes, mark_inset\n",
    "import contextily as ctx"
   ]
  },
  {
   "cell_type": "code",
   "execution_count": 177,
   "metadata": {},
   "outputs": [
    {
     "name": "stdout",
     "output_type": "stream",
     "text": [
      "Index(['geometry', 'KOMKODE'], dtype='object')\n",
      "(99, 2)\n"
     ]
    },
    {
     "data": {
      "text/html": [
       "<div>\n",
       "<style scoped>\n",
       "    .dataframe tbody tr th:only-of-type {\n",
       "        vertical-align: middle;\n",
       "    }\n",
       "\n",
       "    .dataframe tbody tr th {\n",
       "        vertical-align: top;\n",
       "    }\n",
       "\n",
       "    .dataframe thead th {\n",
       "        text-align: right;\n",
       "    }\n",
       "</style>\n",
       "<table border=\"1\" class=\"dataframe\">\n",
       "  <thead>\n",
       "    <tr style=\"text-align: right;\">\n",
       "      <th></th>\n",
       "      <th>geometry</th>\n",
       "      <th>KOMKODE</th>\n",
       "    </tr>\n",
       "    <tr>\n",
       "      <th>KOMNAVN</th>\n",
       "      <th></th>\n",
       "      <th></th>\n",
       "    </tr>\n",
       "  </thead>\n",
       "  <tbody>\n",
       "    <tr>\n",
       "      <th>Aabenraa</th>\n",
       "      <td>MULTIPOLYGON Z (((1063416.145 7383400.239 -999...</td>\n",
       "      <td>0580</td>\n",
       "    </tr>\n",
       "    <tr>\n",
       "      <th>Aalborg</th>\n",
       "      <td>MULTIPOLYGON Z (((1068962.138 7756050.036 -999...</td>\n",
       "      <td>0851</td>\n",
       "    </tr>\n",
       "    <tr>\n",
       "      <th>Aarhus</th>\n",
       "      <td>POLYGON Z ((1112840.735 7594076.059 -999.000, ...</td>\n",
       "      <td>0751</td>\n",
       "    </tr>\n",
       "    <tr>\n",
       "      <th>Albertslund</th>\n",
       "      <td>POLYGON Z ((1375055.919 7499834.873 -999.000, ...</td>\n",
       "      <td>0165</td>\n",
       "    </tr>\n",
       "    <tr>\n",
       "      <th>Allerød</th>\n",
       "      <td>POLYGON Z ((1371283.594 7535169.945 -999.000, ...</td>\n",
       "      <td>0201</td>\n",
       "    </tr>\n",
       "  </tbody>\n",
       "</table>\n",
       "</div>"
      ],
      "text/plain": [
       "                                                      geometry KOMKODE\n",
       "KOMNAVN                                                               \n",
       "Aabenraa     MULTIPOLYGON Z (((1063416.145 7383400.239 -999...    0580\n",
       "Aalborg      MULTIPOLYGON Z (((1068962.138 7756050.036 -999...    0851\n",
       "Aarhus       POLYGON Z ((1112840.735 7594076.059 -999.000, ...    0751\n",
       "Albertslund  POLYGON Z ((1375055.919 7499834.873 -999.000, ...    0165\n",
       "Allerød      POLYGON Z ((1371283.594 7535169.945 -999.000, ...    0201"
      ]
     },
     "execution_count": 177,
     "metadata": {},
     "output_type": "execute_result"
    }
   ],
   "source": [
    "# load geometry with municipalities\n",
    "kom = gpd.read_file(\"kom/kommuner.geojson\")\n",
    "#kom = gpd.read_file(\"kom/KOMMUNE.shp\", usecols=[\"KOMNAVN\"]) # this is too detailed geometry\n",
    "kom = kom.dissolve(by=\"KOMNAVN\")\n",
    "print(kom.keys())\n",
    "print(kom.shape)\n",
    "# convert map format so we can create background maps\n",
    "kom = kom.to_crs(epsg=3857)\n",
    "kom.head()"
   ]
  },
  {
   "cell_type": "code",
   "execution_count": 178,
   "metadata": {},
   "outputs": [
    {
     "data": {
      "text/html": [
       "<div>\n",
       "<style scoped>\n",
       "    .dataframe tbody tr th:only-of-type {\n",
       "        vertical-align: middle;\n",
       "    }\n",
       "\n",
       "    .dataframe tbody tr th {\n",
       "        vertical-align: top;\n",
       "    }\n",
       "\n",
       "    .dataframe thead th {\n",
       "        text-align: right;\n",
       "    }\n",
       "</style>\n",
       "<table border=\"1\" class=\"dataframe\">\n",
       "  <thead>\n",
       "    <tr style=\"text-align: right;\">\n",
       "      <th></th>\n",
       "      <th>Kommune</th>\n",
       "      <th>Befolkningstal</th>\n",
       "      <th>Kum_incidens</th>\n",
       "    </tr>\n",
       "  </thead>\n",
       "  <tbody>\n",
       "    <tr>\n",
       "      <th>0</th>\n",
       "      <td>København</td>\n",
       "      <td>632340</td>\n",
       "      <td>900</td>\n",
       "    </tr>\n",
       "    <tr>\n",
       "      <th>1</th>\n",
       "      <td>Frederiksberg</td>\n",
       "      <td>104305</td>\n",
       "      <td>924</td>\n",
       "    </tr>\n",
       "    <tr>\n",
       "      <th>2</th>\n",
       "      <td>Ballerup</td>\n",
       "      <td>48602</td>\n",
       "      <td>862</td>\n",
       "    </tr>\n",
       "    <tr>\n",
       "      <th>3</th>\n",
       "      <td>Brøndby</td>\n",
       "      <td>35090</td>\n",
       "      <td>1362</td>\n",
       "    </tr>\n",
       "    <tr>\n",
       "      <th>4</th>\n",
       "      <td>Dragør</td>\n",
       "      <td>14494</td>\n",
       "      <td>338</td>\n",
       "    </tr>\n",
       "  </tbody>\n",
       "</table>\n",
       "</div>"
      ],
      "text/plain": [
       "         Kommune  Befolkningstal  Kum_incidens\n",
       "0      København          632340           900\n",
       "1  Frederiksberg          104305           924\n",
       "2       Ballerup           48602           862\n",
       "3        Brøndby           35090          1362\n",
       "4         Dragør           14494           338"
      ]
     },
     "execution_count": 178,
     "metadata": {},
     "output_type": "execute_result"
    }
   ],
   "source": [
    "# load data for last day in dataset - includes no. of residents\n",
    "col_to_load = [\"Kommune_(navn)\", \"Befolkningstal\", \"Kumulativ_incidens_(per_100000)\"]\n",
    "cases = pd.read_csv(\"data/Municipality_test_pos.csv\", sep=\";\", thousands=\".\", usecols=col_to_load)\n",
    "cases = cases.rename(columns={\"Kommune_(navn)\":\"Kommune\", \"Kumulativ_incidens_(per_100000)\":\"Kum_incidens\"})\n",
    "cases.head()"
   ]
  },
  {
   "cell_type": "code",
   "execution_count": 179,
   "metadata": {},
   "outputs": [],
   "source": [
    "def merge_case_data(kom, cases):\n",
    "    # merge latest daily case data for plotting\n",
    "    case_data = kom.merge(cases, left_on=\"KOMNAVN\", right_on=\"Kommune\")\n",
    "    case_data.head()\n",
    "    return case_data\n",
    "case_data = merge_case_data(kom, cases)"
   ]
  },
  {
   "cell_type": "code",
   "execution_count": 180,
   "metadata": {},
   "outputs": [
    {
     "data": {
      "image/png": "[encoded data removed]",
      "text/plain": [
       "<Figure size 432x288 with 3 Axes>"
      ]
     },
     "metadata": {
      "needs_background": "light"
     },
     "output_type": "display_data"
    }
   ],
   "source": [
    "# test plot cases - only last day\n",
    "fig, ax = plt.subplots(1,1)\n",
    "\n",
    "# municipalities around copenhagen, used for zoomed inset map\n",
    "hs_kom = [\"København\", \"Frederiksberg\", \"Tårnby\", \"Dragør\", \"Hvidovre\", \"Brøndby\", \"Rødovre\", \"Glostrup\", \"Herlev\", \"Gladsaxe\", \"Gentofte\", \"Vallensbæk\", \"Albertslund\", \"Ballerup\", \"Lyngby-Taarbæk\"]\n",
    "case_data.plot(column=\"Kum_incidens\", ax=ax, legend=True, cmap='Reds', alpha=0.8)\n",
    "# add basemap\n",
    "#ctx.add_basemap(ax, zoom=9, source=ctx.providers.Esri.WorldGrayCanvas)\n",
    "# create zoomed inset, define limits and plot\n",
    "axins = zoomed_inset_axes(ax, 5, loc=1)\n",
    "minx,miny,maxx,maxy = case_data.query(\"Kommune in \" + str(hs_kom)).total_bounds\n",
    "axins.set_xlim(minx, maxx)\n",
    "axins.set_ylim(miny, maxy)\n",
    "case_data.query(\"Kommune in \" + str(hs_kom)).plot(column=\"Kum_incidens\", \n",
    "                                                  ax=axins, \n",
    "                                                  cmap=\"Reds\", \n",
    "                                                  alpha=0.8,\n",
    "                                                  vmin=0, vmax=1400)\n",
    "#ctx.add_basemap(axins, zoom=12, source=ctx.providers.Esri.WorldGrayCanvas)\n",
    "# mark lines from map to zoom\n",
    "mark_inset(ax, axins, loc1=2, loc2=4, fc=\"none\", ec=\"0.5\")\n",
    "plt.setp(axins, xticks=[])\n",
    "plt.setp(axins, yticks=[])\n",
    "\n",
    "ax.set_axis_off()\n",
    "plt.show()\n",
    "#plt.savefig(\"out/test.png\", dpi=600, bbox_inches=\"tight\")"
   ]
  },
  {
   "cell_type": "code",
   "execution_count": 181,
   "metadata": {},
   "outputs": [],
   "source": [
    "def load_ts(file):\n",
    "    \"\"\"Load timeseries data and modify it so it's useful for plotting\"\"\"\n",
    "    ts = pd.read_csv(file, sep=\";\", thousands=\".\")\n",
    "    # rename copenhagen and transpose to have each date as columns\n",
    "    ts = ts.rename(columns={\"Copenhagen\":\"København\"}).transpose(copy=True)\n",
    "    # rename date columns\n",
    "    ts = ts.rename(columns=ts.iloc[0]).drop(ts.index[0])\n",
    "    # reset the index (municipality name) and rename that \n",
    "    ts = ts.reset_index().rename(columns={\"index\":\"Kommune\"})\n",
    "    ts.columns = ts.columns[:1].tolist() + pd.to_datetime(ts.columns[1:]).tolist()\n",
    "    return ts\n",
    "\n",
    "# load infected and tested time series data\n",
    "ts_infected = load_ts(\"data/Municipality_cases_time_series.csv\")\n",
    "ts_tested = load_ts(\"data/Municipality_tested_persons_time_series.csv\")\n",
    "\n",
    "# adjust tested dates to match infected dates\n",
    "ts_tested = ts_tested.drop(ts_tested.columns[1:ts_tested.columns.get_loc(ts_infected.columns[1])], axis=1)\n",
    "\n",
    "# create timeseries with ratio of positive tests\n",
    "pos_test = ts_infected.iloc[:,1:].sum(axis=0) * 100 / ts_tested.iloc[:,1:].sum(axis=0)\n",
    "#ts_tested.head()"
   ]
  },
  {
   "cell_type": "code",
   "execution_count": 185,
   "metadata": {},
   "outputs": [
    {
     "name": "stdout",
     "output_type": "stream",
     "text": [
      "(737481.0, 737696.0)\n"
     ]
    },
    {
     "data": {
      "image/png": "[encoded data removed]",
      "text/plain": [
       "<Figure size 432x288 with 2 Axes>"
      ]
     },
     "metadata": {
      "needs_background": "light"
     },
     "output_type": "display_data"
    }
   ],
   "source": [
    "# test plot of time series data\n",
    "figd, axd = plt.subplots(1,1)\n",
    "\n",
    "def plot_time_series_data(axd, end_index):\n",
    "    date_lim = [ts_infected.columns[1].date(), ts_infected.columns[-1].date()]\n",
    "\n",
    "    #end_index = len(ts_infected.columns)\n",
    "    lnd = axd.bar([x.date() for x in ts_infected.columns[1:end_index].tolist()], ts_infected.iloc[:,1:end_index].sum(axis=0), color=\"coral\", label=\"# of cases\")\n",
    "    #axd.legend(loc=0)\n",
    "    axd.set_ylim([0, ts_infected.iloc[:,1:].sum(axis=0).max()+20])\n",
    "\n",
    "    #plot positive percentage\n",
    "    axp = axd.twinx()\n",
    "    lnp = axp.plot([x.date() for x in pos_test.index[0:end_index].tolist()], pos_test[0:end_index], color=\"darkred\", label=\"% positive\")\n",
    "    #axd.set_ylabel(\"Confirmed cases\")\n",
    "    #axp.set_ylabel(\"Percent positive\")\n",
    "    axp.set_ylim([0, pos_test.max()+2])\n",
    "    lns = [lnd]+lnp\n",
    "    labs = [l.get_label() for l in lns]\n",
    "    axp.legend(lns, labs, loc=\"upper center\", mode=\"expand\", ncol=2)\n",
    "    axp.set_xlim(date_lim)\n",
    "    axd.set_title(\"Total infections\")\n",
    "    return axd, axp\n",
    "\n",
    "plot_time_series_data(axd, 100)\n",
    "\n",
    "plt.show()"
   ]
  },
  {
   "cell_type": "code",
   "execution_count": null,
   "metadata": {},
   "outputs": [],
   "source": [
    "# fig, (axt, axm) = plt.subplots(2,1, figsize=(8,12), gridspec_kw={\"height_ratios\": [1,2.5]})\n",
    "\n",
    "fig.suptitle(\"Covid-19 cases in Denmark until \"+ str(ts_infected.columns[-1].date()), fontsize=20)\n",
    "\n",
    "#legend for the map\n",
    "plt.axis(\"off\")\n",
    "divider = make_axes_locatable(axm)\n",
    "cax = divider.append_axes(\"right\", size=\"1%\", pad=0.1)\n",
    "\n",
    "hs_kom = [\"København\", \"Frederiksberg\", \"Tårnby\", \"Dragør\", \"Hvidovre\", \"Brøndby\", \"Rødovre\", \"Glostrup\", \"Herlev\", \"Gladsaxe\", \"Gentofte\", \"Vallensbæk\", \"Albertslund\", \"Ballerup\", \"Lyngby-Taarbæk\"]\n",
    "hs_kom_extra = [\"Ishøj\", \"Høje-Taastrup\", \"Egedal\", \"Furesø\", \"Rudersdal\", \"Greve\", \"Solrød\", \"Roskilde\"]\n",
    "\n",
    "stop_at = len(ts_infected.columns) \n",
    "window = 7 # how long back are we plotting for each day\n",
    "\n",
    "first_date_col = 5\n",
    "#merge all data into one frame\n",
    "case_data = merge_case_data(kom, cases)\n",
    "case_data = pd.merge(case_data, ts_infected)\n",
    "# calculate number of infected pr 100.000 residents\n",
    "case_data.iloc[:,6:] = case_data.iloc[:,6:].mul(100000)\n",
    "case_data.iloc[:,6:] = case_data.iloc[:,6:].div(case_data[\"Befolkningstal\"], axis=0)\n",
    "\n",
    "print(\"Generating {} plots...\".format(stop_at-first_date_col))\n",
    "\n",
    "# THIS FOR LOOP TAKES A LOOOOONG TIME (1hr+ for 200 plots), HAVEN'T SPENT TIME FIGURING OUT WHY\n",
    "for index in range(first_date_col, stop_at):\n",
    "    if index % 10 == 0:\n",
    "        print(index)\n",
    "    if index < window + first_date_col:\n",
    "        start = first_date_col\n",
    "    else:\n",
    "        start = index - window\n",
    "    # save date for this data\n",
    "    date = case_data.iloc[:,index].name.date()\n",
    "    #print(date)\n",
    "    # calculate summed incidens for window week\n",
    "    case_data[\"Kum_incidens\"] = case_data.iloc[:,start:index].sum(axis=1)\n",
    "    #plot map, based on the above test plot\n",
    "    case_data.plot(column=\"Kum_incidens\", \n",
    "                        #edgecolor=\"lightgrey\",\n",
    "                        ax=axm, \n",
    "                        legend=True,\n",
    "                        cax=cax, \n",
    "                        cmap=\"Reds\", \n",
    "                        vmin=0, vmax=51,\n",
    "                        aspect=\"auto\")\n",
    "    \n",
    "    axins = zoomed_inset_axes(axm, 5, loc=1)\n",
    "    minx,miny,maxx,maxy = case_data.query(\"Kommune in \" + str(hs_kom)).total_bounds\n",
    "    axins.set_xlim(minx, maxx)\n",
    "    axins.set_ylim(miny, maxy)\n",
    "\n",
    "    case_data.query(\"Kommune in \" + str(hs_kom+hs_kom_extra)).plot(column=\"Kum_incidens\", \n",
    "                                                      ax=axins, \n",
    "                                                      cmap=\"Reds\", \n",
    "                                                      vmin=0, vmax=51)\n",
    "    mark_inset(axm, axins, loc1=2, loc2=4, fc=\"none\", ec=\"0.5\")\n",
    "    plt.setp(axins, xticks=[])\n",
    "    plt.setp(axins, yticks=[])\n",
    "\n",
    "    axm.set_axis_off()\n",
    "    axm.set_title(\"Infections during last week per 100.000 citizens\")\n",
    "    # plot timeseries based on function above\n",
    "    plot_time_series_data(axt, index-first_date_col+2)\n",
    "    #plt.figtext(0.42,0.93,\"(C) Mikkel Rath Hansen\", fontsize=\"small\")\n",
    "    fig.savefig(\"out/plot_{:03d}.png\".format(index-first_date_col), dpi=100, bbox_inches=\"tight\")\n",
    "    plt.close()\n",
    "    \n",
    "print(\"Done\")"
   ]
  }
 ],
 "metadata": {
  "kernelspec": {
   "display_name": "Python 3",
   "language": "python",
   "name": "python3"
  },
  "language_info": {
   "codemirror_mode": {
    "name": "ipython",
    "version": 3
   },
   "file_extension": ".py",
   "mimetype": "text/x-python",
   "name": "python",
   "nbconvert_exporter": "python",
   "pygments_lexer": "ipython3",
   "version": "3.8.2"
  }
 },
 "nbformat": 4,
 "nbformat_minor": 4
}
